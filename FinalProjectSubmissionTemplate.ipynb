{
 "cells": [
  {
   "cell_type": "markdown",
   "id": "45762487-d33f-486d-8e38-2cdea04e3528",
   "metadata": {},
   "source": [
    "# Metadata\n",
    "\n",
    "* Title: **Final Project Report**\n",
    "* Class: DS 5100\n",
    "* Date: 2022.07.13\n",
    "* Student Name: Chunru Zheng\n",
    "* Student Net ID: cz8yb\n",
    "* This URL: <https://github.com/Chunru1995/FinalProject_Repo/blob/main/FinalProjectSubmissionTemplate.ipynb>\n",
    "* GitHub Repo URL: https://github.com/Chunru1995/FinalProject_Repo"
   ]
  },
  {
   "cell_type": "markdown",
   "id": "d32cb273-9a40-4909-a7ce-51f6e4958d3c",
   "metadata": {},
   "source": [
    "# The Monte Carlo Module"
   ]
  },
  {
   "cell_type": "code",
   "execution_count": null,
   "id": "a0743efc-a785-4b5c-a9e6-b65d4507a67f",
   "metadata": {},
   "outputs": [],
   "source": [
    "# A code block with your classes.\n",
    "\n",
    "import numpy as np\n",
    "import pandas as pd\n",
    "import operator as op\n",
    "\n",
    "class Die: \n",
    "    ''' \n",
    "    This class is to draw a die with a list of “faces”, and W weights, and can be rolled to select a face. \n",
    "    '''\n",
    "    n_rolls = 1\n",
    "    \n",
    "    def __init__(self, arrays):\n",
    "        self.faces = arrays\n",
    "        self.weights = [1]* len(self.faces)\n",
    "        self.my_probs = [i/sum(self.weights) for i in self.weights]\n",
    "        self.die = pd.DataFrame({\n",
    "            'face': self.faces,\n",
    "            'weights': self.my_probs\n",
    "        })      \n",
    "          \n",
    "    '''This returns the new frame of die and weights'''\n",
    "    def change_weight(self, face_id, new_weight): \n",
    "        if face_id in self.faces:\n",
    "            if isinstance(new_weight,(int, float)) == True:\n",
    "                face_index = self.faces.index(face_id)\n",
    "                self.weights[face_index] = new_weight\n",
    "                self.my_probs = [i/sum(self.weights) for i in self.weights]\n",
    "                self.die = pd.DataFrame({\n",
    "                     'face': self.faces,\n",
    "                     'weights': self.my_probs\n",
    "                 })\n",
    "            else: \n",
    "                print(\"invalid weight\")\n",
    "        else:\n",
    "            print(\"Out of the face range\")\n",
    "                      \n",
    "    '''This returns the results'''\n",
    "    def roll_die(self, n_rolls=1):\n",
    "        results = []\n",
    "        for i in range(n_rolls):\n",
    "            result = self.die.face.sample(weights=self.die.weights).values[0]\n",
    "            results.append(result)\n",
    "        return pd.Series(results) \n",
    "\n",
    "    def show_current(self):\n",
    "        return self.die\n",
    "\n",
    "class Game: \n",
    "    \n",
    "    ''' \n",
    "    This class is to draw m dices with n times, and return the results of drawing.    \n",
    "    Here I change to setting to choose m dices as you want, which make it easier for the senarios to change the number of dices.  \n",
    "    '''\n",
    "    \n",
    "    n_rolls = 1\n",
    "    m_dices = 3\n",
    "    \n",
    "    def __init__(self,arrays):\n",
    "        self.dieobj = arrays\n",
    "        \n",
    "    def play(self, n_rolls, m_dices):\n",
    "        '''This returns the results of rolling m dices n times.'''\n",
    "        self.n_rolls = n_rolls  \n",
    "        self.m_dices = m_dices\n",
    "        results_nm = []\n",
    "        for i in range(self.m_dices):\n",
    "            class1 = Die(self.dieobj)\n",
    "            result_nm = class1.roll_die(n_rolls)\n",
    "            results_nm.append(result_nm)\n",
    "        self.results = pd.DataFrame(results_nm).unstack().to_frame()\n",
    "        self.results = self.results.reset_index()\n",
    "        self.results.columns = ['num_rolls', 'num_dices','Face_rolled']\n",
    "        self.results.num_rolls += 1 \n",
    "        self.results.num_dices += 1\n",
    "        return self.results\n",
    "  \n",
    "    def show(self, Form):\n",
    "        '''This transforms the results of the method play. To use this method, 'play' has to run firstly.'''\n",
    "        if Form == 'N':\n",
    "            return self.results.set_index(['num_rolls', 'num_dices'])\n",
    "        elif Form == 'W':       \n",
    "            return self.results.set_index(['num_rolls'])\n",
    "        else:\n",
    "            print('Invalid Option')\n",
    "           \n",
    "        \n",
    "class Analyzer: \n",
    "    \n",
    "    '''\n",
    "    This class returns the analysis of results, with drawing m dices in n rolls.\n",
    "    '''\n",
    "      \n",
    "    def __init__(self,results):\n",
    "        self.dierus = results\n",
    "        \n",
    "    def jackpot(self):\n",
    "        '''This returns the times that all dices have the same face, where only one unique face is obtained.'''\n",
    "        self.group_nvals = list(self.dierus.groupby('num_rolls')['Face_rolled'].nunique())\n",
    "        return op.countOf(self.group_nvals,1)\n",
    "    \n",
    "    def combo(self):\n",
    "        '''This returns the times of each face_rolled.'''\n",
    "        counts = pd.Series(self.dierus['Face_rolled']).value_counts()\n",
    "        return pd.DataFrame(counts).sort_values(by=['Face_rolled'])\n",
    "        \n",
    "    def faceper(self):\n",
    "        '''This returns the times of each face in each roll.'''\n",
    "        self.counts_faceroll = self.dierus.groupby(['num_rolls', 'Face_rolled']).count()\n",
    "        self.counts_faceroll.columns = ['times_rolls']\n",
    "        \n",
    "if __name__ == '__main__':\n",
    "    test_object = ([1,2, 3])    "
   ]
  },
  {
   "cell_type": "markdown",
   "id": "4c81c4f0-b6ff-46ab-ba2c-9de7f0179715",
   "metadata": {},
   "source": [
    "# Test Module"
   ]
  },
  {
   "cell_type": "code",
   "execution_count": null,
   "id": "14b878d8-258b-4cf2-ad88-b8ee90d43977",
   "metadata": {},
   "outputs": [],
   "source": [
    "import unittest\n",
    "import numpy as np\n",
    "import pandas as pd\n",
    "import operator as op\n",
    "\n",
    "from montecarlo import montecarlo\n",
    "\n",
    "class MontecarloTestSuite(unittest.TestCase):\n",
    "    \n",
    "    def test_1_Die_initial(self): \n",
    "        '''add an array and test the initial inputs. ''' \n",
    "        class1 = montecarlo.Die([\"a\",\"b\",\"c\"])\n",
    "        self.assertTrue(isinstance(class1.die,pd.DataFrame))\n",
    "    \n",
    "    def test_2_Die_changeweight(self): \n",
    "        ''' change the specific face_id and test the new weight.  '''\n",
    "        class1 = montecarlo.Die([\"a\",\"b\",\"c\"])\n",
    "        class1.change_weight(\"a\", 3)\n",
    "        expected = 3\n",
    "        self.assertEqual(class1.weights[0], expected)  \n",
    "        \n",
    "    def test_3_Die_rolldie(self):\n",
    "        ''' roll the dice for one time and check the length of the result.'''\n",
    "        class1 = montecarlo.Die(['a', 'b', 'c'])\n",
    "        expected = 3 \n",
    "        self.assertEqual(len(class1.roll_die(3)), expected)\n",
    "        \n",
    "    def test_4_Game_initial(self): \n",
    "        ''' add an array and test the initial inputs. ''' \n",
    "        class2 = montecarlo.Game([1,2,3,4])\n",
    "        self.assertTrue(isinstance(class2.dieobj, list))\n",
    "        \n",
    "    def test_5_Game_play(self): \n",
    "        '''roll the dice for three time and check the size of the result.'''\n",
    "        class2 = montecarlo.Game([1,2,3,4])\n",
    "        expected = 12\n",
    "        self.assertEqual(len(class2.play(3, 4)), expected)\n",
    "\n",
    "    def test_6_Game_show(self): \n",
    "        '''check whether the result is a dataframe.'''\n",
    "        class2 = montecarlo.Game([1,2,3,4])\n",
    "        class2.play(3,4)\n",
    "        self.assertTrue(isinstance(class2.show('N'), pd.DataFrame))\n",
    "        \n",
    "    def test_7_Analyzer_jackpot(self):\n",
    "        '''check whether the result is a value '''\n",
    "        class2 = montecarlo.Game([1,2,3,4])\n",
    "        class3 = montecarlo.Analyzer(class2.play(3,4))\n",
    "        self.assertFalse(isinstance(class3.jackpot(), float))\n",
    "        \n",
    "    def test_7_Analyzer_combo(self):\n",
    "        '''check whether the result is a value '''\n",
    "        class2 = montecarlo.Game([1, 2, 3, 4, 5, 6])\n",
    "        class3 = montecarlo.Analyzer(class2.play(3,4))\n",
    "        self.assertTrue(isinstance(class3.combo(), pd.DataFrame))\n",
    "      \n",
    "        \n",
    "    def test_8_Analyzer_faceper(self):\n",
    "        '''check whether the result is a dataframe '''\n",
    "        class2 = montecarlo.Game([1, 2, 3, 4, 5, 6])\n",
    "        class3 = montecarlo.Analyzer(class2.play(3,4))\n",
    "        r = class3.faceper()\n",
    "        self.assertTrue(isinstance(class3.counts_faceroll, pd.DataFrame))\n",
    "            \n",
    "if __name__ == '__main__':  \n",
    "    unittest.main(verbosity=3)"
   ]
  },
  {
   "cell_type": "markdown",
   "id": "3c2b90b6-ac8b-43fa-a069-cb5b0b22aee0",
   "metadata": {},
   "source": [
    "# Test Results"
   ]
  },
  {
   "cell_type": "raw",
   "id": "4277d02e-c559-4087-bfd5-12b9d14c679d",
   "metadata": {},
   "source": [
    "# A text block with the output of a successful test.\n",
    "\n",
    "test_1_Die_initial (__main__.MontecarloTestSuite) ... ok\n",
    "test_2_Die_changeweight (__main__.MontecarloTestSuite) ... ok\n",
    "test_3_Die_rolldie (__main__.MontecarloTestSuite) ... ok\n",
    "test_4_Game_initial (__main__.MontecarloTestSuite) ... ok\n",
    "test_5_Game_play (__main__.MontecarloTestSuite) ... ok\n",
    "test_6_Game_show (__main__.MontecarloTestSuite) ... ok\n",
    "test_7_Analyzer_combo (__main__.MontecarloTestSuite) ... ok\n",
    "test_7_Analyzer_jackpot (__main__.MontecarloTestSuite) ... ok\n",
    "test_8_Analyzer_faceper (__main__.MontecarloTestSuite) ... ok\n",
    "\n",
    "----------------------------------------------------------------------\n",
    "Ran 9 tests in 0.024s\n",
    "\n",
    "OK"
   ]
  },
  {
   "cell_type": "markdown",
   "id": "7c44695d-d1b3-4edf-9f94-e64d7446f199",
   "metadata": {},
   "source": [
    "# Scenarios\n",
    "\n",
    "Code blocks with your scenarios and their outputs. \n",
    "\n",
    "These should have appropriate import statements even though the code is now in the same notebook as the classes it calls. "
   ]
  },
  {
   "cell_type": "markdown",
   "id": "90b7abd8-f4a7-4d71-bc9a-746640516b98",
   "metadata": {},
   "source": [
    "## Scenario 1"
   ]
  },
  {
   "cell_type": "code",
   "execution_count": 1,
   "id": "815eae36-4357-442a-894e-d056ebb8f998",
   "metadata": {},
   "outputs": [
    {
     "data": {
      "text/plain": [
       "<BarContainer object of 2 artists>"
      ]
     },
     "execution_count": 1,
     "metadata": {},
     "output_type": "execute_result"
    },
    {
     "data": {
      "image/png": "[encoded data removed]",
      "text/plain": [
       "<Figure size 432x288 with 1 Axes>"
      ]
     },
     "metadata": {
      "needs_background": "light"
     },
     "output_type": "display_data"
    }
   ],
   "source": [
    "# Code blocks with output\n",
    "import numpy as np\n",
    "import pandas as pd\n",
    "import operator as op\n",
    "import matplotlib.pyplot as plt\n",
    "from collections import Counter\n",
    "import string\n",
    "\n",
    "!cd /Users/Christine/Desktop/DS/DS5100/DS5100-2022-06-RA/FinalProject_Repo/\n",
    "from montecarlo import montecarlo\n",
    "\n",
    "# Scenario 1: A 2-headed coin\n",
    "#1. Play a game of 1000 flips with 3 fair dices.\n",
    "Game_class = montecarlo.Game(['H', 'T'])\n",
    "Game1 = Game_class.play(1000,3)\n",
    "\n",
    "Ana_class1 = montecarlo.Analyzer(Game1)\n",
    "Jack_fre_Game1 = Ana_class1.jackpot()/1000\n",
    "Jack_fre_Game1\n",
    "\n",
    "Fair = Game_class.play(1000,1)\n",
    "Die_class = montecarlo.Die(['H', 'T'])\n",
    "Die_class.change_weight('H',5)\n",
    "UnFair = Game_class.play(1000,2)\n",
    "UnFair.num_dices += 1\n",
    "\n",
    "Game2 = pd.concat([Fair, UnFair])\n",
    "Ans_class2 = montecarlo.Analyzer(Game2)\n",
    "Jack_fre_Game2 = Ans_class2.jackpot()/1000\n",
    "Jack_fre_Game2\n",
    "\n",
    "df = {'Game1':Jack_fre_Game1, 'Game2':Jack_fre_Game2}\n",
    "df2 = sorted(df.items())\n",
    "x, y = zip(*df2)\n",
    "plt.bar(x, y)\n"
   ]
  },
  {
   "cell_type": "markdown",
   "id": "92793a09-0024-465d-b272-2ef8b9a6c21c",
   "metadata": {},
   "source": [
    "## Scenario 2"
   ]
  },
  {
   "cell_type": "code",
   "execution_count": 6,
   "id": "7218e98e-6ec0-4766-8793-5b386ce6ee24",
   "metadata": {},
   "outputs": [
    {
     "data": {
      "text/plain": [
       "<BarContainer object of 2 artists>"
      ]
     },
     "execution_count": 6,
     "metadata": {},
     "output_type": "execute_result"
    },
    {
     "data": {
      "image/png": "[encoded data removed]",
      "text/plain": [
       "<Figure size 432x288 with 1 Axes>"
      ]
     },
     "metadata": {
      "needs_background": "light"
     },
     "output_type": "display_data"
    }
   ],
   "source": [
    "# Code blocks with output\n",
    "\n",
    "# Scenario 2: A 6-sided die\n",
    "#1. Play a game of 1000 flips with 5 fair dices.\n",
    "Game_class = montecarlo.Game([1, 2, 3, 4, 5, 6])\n",
    "Game1 = Game_class.play(10000,5)\n",
    "\n",
    "Ans_class1 = montecarlo.Analyzer(Game1)\n",
    "Jack_fre_Game1 = Ans_class1.jackpot()/1000\n",
    "Jack_fre_Game1\n",
    "\n",
    "#2. Play a game of 1000 flips with 1 fair dice and 4 unfair dices.\n",
    "Fair = Game_class.play(10000,1)\n",
    "Die_class = montecarlo.Die([1, 2, 3, 4, 5, 6])\n",
    "Die_class.change_weight(6,5)\n",
    "UnFair1 = Game_class.play(10000,2)\n",
    "UnFair1.num_dices += 1\n",
    "\n",
    "Die_class.change_weight(6,1)\n",
    "Die_class.change_weight(1,5)\n",
    "UnFair2 = Game_class.play(10000,2)\n",
    "UnFair2.num_dices += 3\n",
    "\n",
    "Game2 = pd.concat([Fair, UnFair1, UnFair2])\n",
    "Ans_class2 = montecarlo.Analyzer(Game2)\n",
    "Jack_fre_Game2 = Ans_class2.jackpot()/1000\n",
    "Jack_fre_Game2\n",
    "\n",
    "df = {'Game1':Jack_fre_Game1, 'Game2':Jack_fre_Game2}\n",
    "df2 = sorted(df.items())\n",
    "x, y = zip(*df2)\n",
    "plt.bar(x, y)"
   ]
  },
  {
   "cell_type": "code",
   "execution_count": 7,
   "id": "29e1cde7-7303-4bd9-8429-a9da9c718a38",
   "metadata": {},
   "outputs": [
    {
     "data": {
      "image/png": "[encoded data removed]",
      "text/plain": [
       "<Figure size 432x288 with 1 Axes>"
      ]
     },
     "metadata": {
      "needs_background": "light"
     },
     "output_type": "display_data"
    }
   ],
   "source": [
    "Game2\n",
    "\n",
    "face_combin = []\n",
    "for i in range(1,10001):\n",
    "    face =[int(Game2.Face_rolled.iloc[[j-1]]) for j in range(1+5*(i-1), 6+5*(i-1))]\n",
    "    face_str = str(face)\n",
    "    face_combin.append(face_str)\n",
    "    \n",
    "most10 = pd.DataFrame(Counter(face_combin).most_common(10))\n",
    "most10.columns = ['combinations', 'num']\n",
    "most10    \n",
    "\n",
    "plt.bar(most10.combinations, most10.num)\n",
    "plt.xticks(rotation=90)\n",
    "plt.show()"
   ]
  },
  {
   "cell_type": "markdown",
   "id": "1b47f5b6-188d-4d24-9c2f-687b430e6624",
   "metadata": {},
   "source": [
    "## Scenario 3"
   ]
  },
  {
   "cell_type": "code",
   "execution_count": 5,
   "id": "ad6d2878-f832-4065-98a3-1ea78ff0a6d3",
   "metadata": {},
   "outputs": [
    {
     "data": {
      "text/html": [
       "<div>\n",
       "<style scoped>\n",
       "    .dataframe tbody tr th:only-of-type {\n",
       "        vertical-align: middle;\n",
       "    }\n",
       "\n",
       "    .dataframe tbody tr th {\n",
       "        vertical-align: top;\n",
       "    }\n",
       "\n",
       "    .dataframe thead th {\n",
       "        text-align: right;\n",
       "    }\n",
       "</style>\n",
       "<table border=\"1\" class=\"dataframe\">\n",
       "  <thead>\n",
       "    <tr style=\"text-align: right;\">\n",
       "      <th></th>\n",
       "      <th>words</th>\n",
       "      <th>num</th>\n",
       "    </tr>\n",
       "  </thead>\n",
       "  <tbody>\n",
       "    <tr>\n",
       "      <th>0</th>\n",
       "      <td>JEZTO</td>\n",
       "      <td>1</td>\n",
       "    </tr>\n",
       "    <tr>\n",
       "      <th>1</th>\n",
       "      <td>BNTOV</td>\n",
       "      <td>1</td>\n",
       "    </tr>\n",
       "    <tr>\n",
       "      <th>2</th>\n",
       "      <td>JTSLW</td>\n",
       "      <td>1</td>\n",
       "    </tr>\n",
       "    <tr>\n",
       "      <th>3</th>\n",
       "      <td>YIGFP</td>\n",
       "      <td>1</td>\n",
       "    </tr>\n",
       "    <tr>\n",
       "      <th>4</th>\n",
       "      <td>RWVVL</td>\n",
       "      <td>1</td>\n",
       "    </tr>\n",
       "    <tr>\n",
       "      <th>5</th>\n",
       "      <td>QNHDN</td>\n",
       "      <td>1</td>\n",
       "    </tr>\n",
       "    <tr>\n",
       "      <th>6</th>\n",
       "      <td>ZLBQF</td>\n",
       "      <td>1</td>\n",
       "    </tr>\n",
       "    <tr>\n",
       "      <th>7</th>\n",
       "      <td>YJAKA</td>\n",
       "      <td>1</td>\n",
       "    </tr>\n",
       "    <tr>\n",
       "      <th>8</th>\n",
       "      <td>TIZDE</td>\n",
       "      <td>1</td>\n",
       "    </tr>\n",
       "    <tr>\n",
       "      <th>9</th>\n",
       "      <td>LFDBG</td>\n",
       "      <td>1</td>\n",
       "    </tr>\n",
       "  </tbody>\n",
       "</table>\n",
       "</div>"
      ],
      "text/plain": [
       "   words  num\n",
       "0  JEZTO    1\n",
       "1  BNTOV    1\n",
       "2  JTSLW    1\n",
       "3  YIGFP    1\n",
       "4  RWVVL    1\n",
       "5  QNHDN    1\n",
       "6  ZLBQF    1\n",
       "7  YJAKA    1\n",
       "8  TIZDE    1\n",
       "9  LFDBG    1"
      ]
     },
     "execution_count": 5,
     "metadata": {},
     "output_type": "execute_result"
    }
   ],
   "source": [
    "# Code blocks with output\n",
    "# Scenario 3: Letters of the Roman Alpha\n",
    "#1. Play a game of 1000 flips with 5 fair dices, \n",
    "Die_class = montecarlo.Die(list(string.ascii_uppercase))\n",
    "letter_fre = {'A': 2.0720, \n",
    "              'B': 2.0720, \n",
    "'C': 4.5388, \n",
    "'D': 3.3844,\n",
    "'E': 11.1607,\n",
    "'F': 1.8121,\n",
    "'G': 2.4705,\n",
    "'H': 3.0034,\n",
    "'I': 7.5448,\n",
    "'J': 0.1965,\n",
    "'K': 1.1016,\n",
    "'L': 5.4893,\n",
    "'M': 3.0129,\n",
    "'N': 6.6544,\n",
    "'O': 7.1635,\n",
    "'P': 3.1671,\n",
    "'Q': 0.1962,\n",
    "'R': 7.5809,\n",
    "'S': 5.7351,\n",
    "'T': 6.9509,\n",
    "'U': 3.6308,\n",
    "'V': 1.0074,\n",
    "'W': 1.2899,\n",
    "'X': 0.2902,\n",
    "'Y': 1.7779,\n",
    "'Z': 0.2722\n",
    "}\n",
    "\n",
    "for i in letter_fre.keys():\n",
    "    Die_class.change_weight(i, letter_fre.get(i))\n",
    "Die_class.show_current()\n",
    "\n",
    "Game_class = montecarlo.Game(list(string.ascii_uppercase))\n",
    "Game_letter = Game_class.play(1000,5)\n",
    "\n",
    "letter_combin = []\n",
    "for i in range(1,1001):\n",
    "    letter =[Game_letter.Face_rolled.iloc[[j-1]].values.tolist()[0] for j in range(1+5*(i-1), 6+5*(i-1))]\n",
    "    letter_combin.append(letter)\n",
    "word = [\"\".join(i) for i in letter_combin]\n",
    "\n",
    "word10 = pd.DataFrame(Counter(word).most_common(10))\n",
    "word10.columns = ['words', 'num']\n",
    "word10"
   ]
  },
  {
   "cell_type": "markdown",
   "id": "6ced706c-19e7-4e79-b171-bfb076f822b4",
   "metadata": {},
   "source": [
    "# Directory Listing\n",
    "\n",
    "A code block that executes the following bash command: \n",
    "\n",
    "```bash\n",
    "!ls -lRF -o\n",
    "```"
   ]
  },
  {
   "cell_type": "code",
   "execution_count": 8,
   "id": "5dbd35c2-e479-4179-b792-997d4293ba96",
   "metadata": {},
   "outputs": [
    {
     "name": "stdout",
     "output_type": "stream",
     "text": [
      "total 176\n",
      "-rw-r--r--  1 Christine  30749 Jul 13 09:58 FinalProjectSubmissionTemplate.ipynb\n",
      "-rw-r--r--  1 Christine   1067 Jul 11 22:22 LICENSE\n",
      "-rw-r--r--  1 Christine     19 Jul 11 22:22 README.md\n",
      "drwxr-xr-x  6 Christine    192 Jul 13 09:28 \u001b[34mmontecarlo\u001b[m\u001b[m/\n",
      "-rw-r--r--@ 1 Christine  35751 Jul 13 09:58 montecarlo_demo.ipynb\n",
      "-rw-r--r--@ 1 Christine    626 Jul 13 09:52 montecarlo_results.txt\n",
      "-rw-r--r--  1 Christine   2307 Jul 13 09:52 montecarlo_tests.py\n",
      "-rw-r--r--  1 Christine    260 Jul 13 09:24 setup.py\n",
      "\n",
      "./montecarlo:\n",
      "total 8\n",
      "-rw-r--r--  1 Christine     0 Jul 13 09:09 __init__.py\n",
      "drwxr-xr-x  4 Christine   128 Jul 13 09:31 \u001b[34m__pycache__\u001b[m\u001b[m/\n",
      "-rw-r--r--  1 Christine  3710 Jul 10 22:43 montecarlo.py\n",
      "\n",
      "./montecarlo/__pycache__:\n",
      "total 16\n",
      "-rw-r--r--  1 Christine   184 Jul 13 09:28 __init__.cpython-39.pyc\n",
      "-rw-r--r--  1 Christine  3734 Jul 13 09:31 montecarlo.cpython-39.pyc\n"
     ]
    }
   ],
   "source": [
    "!ls -lRF -o"
   ]
  },
  {
   "cell_type": "markdown",
   "id": "c4df835c-3cd7-4c74-a4de-51638607680b",
   "metadata": {
    "tags": []
   },
   "source": [
    "# Installation Output Listing\n",
    "    \n",
    "A code block that executes the code to install your your package and outputs a successful installation."
   ]
  },
  {
   "cell_type": "code",
   "execution_count": null,
   "id": "3609769a-c338-4746-8607-d124caf76ed8",
   "metadata": {},
   "outputs": [],
   "source": [
    "# Installation commands"
   ]
  },
  {
   "cell_type": "code",
   "execution_count": 9,
   "id": "3f8d0ced-8841-4357-bda1-151880cf91a0",
   "metadata": {},
   "outputs": [
    {
     "name": "stdout",
     "output_type": "stream",
     "text": [
      "Processing /Users/Christine/Desktop/DS/DS5100/DS5100-2022-06-RA/FinalProject_Repo\n",
      "\u001b[33m  DEPRECATION: A future pip version will change local packages to be built in-place without first copying to a temporary directory. We recommend you use --use-feature=in-tree-build to test your packages with this new behavior before it becomes the default.\n",
      "   pip 21.3 will remove support for this functionality. You can find discussion regarding this at https://github.com/pypa/pip/issues/7555.\u001b[0m\n",
      "Requirement already satisfied: click in /Users/Christine/opt/anaconda3/lib/python3.9/site-packages (from montecarlo==1.0) (8.0.4)\n",
      "Building wheels for collected packages: montecarlo\n",
      "  Building wheel for montecarlo (setup.py) ... \u001b[?25ldone\n",
      "\u001b[?25h  Created wheel for montecarlo: filename=montecarlo-1.0-py3-none-any.whl size=3353 sha256=07a9e87de7e6eb00236037e1f4a2d62f2e663eda77c56fdfc27106c00150bb7c\n",
      "  Stored in directory: /private/var/folders/n5/z1zm8jvn39b3kjy2k56p_8240000gn/T/pip-ephem-wheel-cache-f0ayky3q/wheels/4e/ca/8a/460f4fe5dc9cea009e8965650cc690c910720f9854535d2081\n",
      "Successfully built montecarlo\n",
      "Installing collected packages: montecarlo\n",
      "Successfully installed montecarlo-1.0\n"
     ]
    }
   ],
   "source": [
    "!cd /Users/Christine/Desktop/DS/DS5100/DS5100-2022-06-RA/FinalProject_Repo/; pip install ."
   ]
  }
 ],
 "metadata": {
  "kernelspec": {
   "display_name": "Python 3 (ipykernel)",
   "language": "python",
   "name": "python3"
  },
  "language_info": {
   "codemirror_mode": {
    "name": "ipython",
    "version": 3
   },
   "file_extension": ".py",
   "mimetype": "text/x-python",
   "name": "python",
   "nbconvert_exporter": "python",
   "pygments_lexer": "ipython3",
   "version": "3.9.12"
  },
  "widgets": {
   "application/vnd.jupyter.widget-state+json": {
    "state": {},
    "version_major": 2,
    "version_minor": 0
   }
  }
 },
 "nbformat": 4,
 "nbformat_minor": 5
}
