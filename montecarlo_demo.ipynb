{
 "cells": [
  {
   "cell_type": "code",
   "execution_count": 14,
   "id": "accfa76c-0001-4a1f-b7cd-394b7a57a5b5",
   "metadata": {},
   "outputs": [],
   "source": [
    "import numpy as np\n",
    "import pandas as pd\n",
    "import operator as op\n",
    "import matplotlib.pyplot as plt\n",
    "from collections import Counter\n",
    "import string"
   ]
  },
  {
   "cell_type": "code",
   "execution_count": 2,
   "id": "268a23b8-36e3-43ad-8c91-cfa610c60a4f",
   "metadata": {},
   "outputs": [],
   "source": [
    "!cd /Users/Christine/Desktop/DS/DS5100/DS5100-2022-06-RA/FinalProject_Repo/"
   ]
  },
  {
   "cell_type": "code",
   "execution_count": 7,
   "id": "51428df1-524f-4c2b-a4b0-06795af70a7f",
   "metadata": {},
   "outputs": [],
   "source": [
    "from montecarlo import montecarlo"
   ]
  },
  {
   "cell_type": "code",
   "execution_count": 10,
   "id": "ff69fdb1-63e2-44a1-838e-a8002cd7e0d4",
   "metadata": {},
   "outputs": [
    {
     "data": {
      "text/plain": [
       "0.258"
      ]
     },
     "execution_count": 10,
     "metadata": {},
     "output_type": "execute_result"
    }
   ],
   "source": [
    "# Scenario 1: A 2-headed coin\n",
    "#1. Play a game of 1000 flips with 3 fair dices.\n",
    "Game_class = montecarlo.Game(['H', 'T'])\n",
    "Game1 = Game_class.play(1000,3)\n",
    "\n",
    "Ana_class1 = montecarlo.Analyzer(Game1)\n",
    "Jack_fre_Game1 = Ana_class1.jackpot()/1000\n",
    "Jack_fre_Game1"
   ]
  },
  {
   "cell_type": "code",
   "execution_count": 12,
   "id": "c06b4fda-7230-44ce-919a-b04080354e2c",
   "metadata": {},
   "outputs": [],
   "source": [
    "#\n",
    "Fair = Game_class.play(1000,1)\n",
    "Die_class = montecarlo.Die(['H', 'T'])\n",
    "Die_class.change_weight('H',5)\n",
    "UnFair = Game_class.play(1000,2)\n",
    "UnFair.num_dices += 1"
   ]
  },
  {
   "cell_type": "code",
   "execution_count": 15,
   "id": "1ca15b14-7f09-41f0-be91-dcea6ca7615e",
   "metadata": {},
   "outputs": [
    {
     "data": {
      "text/plain": [
       "0.268"
      ]
     },
     "execution_count": 15,
     "metadata": {},
     "output_type": "execute_result"
    }
   ],
   "source": [
    "Game2 = pd.concat([Fair, UnFair])\n",
    "Ans_class2 = montecarlo.Analyzer(Game2)\n",
    "Jack_fre_Game2 = Ans_class2.jackpot()/1000\n",
    "Jack_fre_Game2"
   ]
  },
  {
   "cell_type": "code",
   "execution_count": 16,
   "id": "7caf18d7-4c3c-4a67-b408-00184c4d5e4c",
   "metadata": {},
   "outputs": [
    {
     "data": {
      "text/plain": [
       "<BarContainer object of 2 artists>"
      ]
     },
     "execution_count": 16,
     "metadata": {},
     "output_type": "execute_result"
    },
    {
     "data": {
      "image/png": "[encoded data removed]",
      "text/plain": [
       "<Figure size 432x288 with 1 Axes>"
      ]
     },
     "metadata": {
      "needs_background": "light"
     },
     "output_type": "display_data"
    }
   ],
   "source": [
    "df = {'Game1':Jack_fre_Game1, 'Game2':Jack_fre_Game2}\n",
    "df2 = sorted(df.items())\n",
    "x, y = zip(*df2)\n",
    "plt.bar(x, y)"
   ]
  },
  {
   "cell_type": "code",
   "execution_count": 17,
   "id": "d464ad5e-a6fb-4be9-ac2b-ea331ad779d8",
   "metadata": {},
   "outputs": [
    {
     "data": {
      "text/plain": [
       "0.01"
      ]
     },
     "execution_count": 17,
     "metadata": {},
     "output_type": "execute_result"
    }
   ],
   "source": [
    "# Scenario 2: A 6-sided die\n",
    "#1. Play a game of 1000 flips with 5 fair dices.\n",
    "Game_class = montecarlo.Game([1, 2, 3, 4, 5, 6])\n",
    "Game1 = Game_class.play(10000,5)\n",
    "\n",
    "Ans_class1 = montecarlo.Analyzer(Game1)\n",
    "Jack_fre_Game1 = Ans_class1.jackpot()/1000\n",
    "Jack_fre_Game1"
   ]
  },
  {
   "cell_type": "code",
   "execution_count": 18,
   "id": "bb6e7f2b-9be5-438f-ba25-a317f7ca5d43",
   "metadata": {},
   "outputs": [],
   "source": [
    "#2. Play a game of 1000 flips with 1 fair dice and 4 unfair dices.\n",
    "Fair = Game_class.play(10000,1)\n",
    "Die_class = montecarlo.Die([1, 2, 3, 4, 5, 6])\n",
    "Die_class.change_weight(6,5)\n",
    "UnFair1 = Game_class.play(10000,2)\n",
    "UnFair1.num_dices += 1"
   ]
  },
  {
   "cell_type": "code",
   "execution_count": 19,
   "id": "8851074a-9998-4544-a0e0-bfb0043b796c",
   "metadata": {},
   "outputs": [],
   "source": [
    "Die_class.change_weight(6,1)\n",
    "Die_class.change_weight(1,5)\n",
    "UnFair2 = Game_class.play(10000,2)\n",
    "UnFair2.num_dices += 3"
   ]
  },
  {
   "cell_type": "code",
   "execution_count": 20,
   "id": "215a7293-3463-42f0-8fd1-a43b228d8221",
   "metadata": {},
   "outputs": [
    {
     "data": {
      "text/plain": [
       "0.009"
      ]
     },
     "execution_count": 20,
     "metadata": {},
     "output_type": "execute_result"
    }
   ],
   "source": [
    "Game2 = pd.concat([Fair, UnFair1, UnFair2])\n",
    "Ans_class2 = montecarlo.Analyzer(Game2)\n",
    "Jack_fre_Game2 = Ans_class2.jackpot()/1000\n",
    "Jack_fre_Game2"
   ]
  },
  {
   "cell_type": "code",
   "execution_count": 21,
   "id": "a563019a-c6da-459b-9297-c431d0141570",
   "metadata": {},
   "outputs": [
    {
     "data": {
      "text/plain": [
       "<BarContainer object of 2 artists>"
      ]
     },
     "execution_count": 21,
     "metadata": {},
     "output_type": "execute_result"
    },
    {
     "data": {
      "image/png": "[encoded data removed]",
      "text/plain": [
       "<Figure size 432x288 with 1 Axes>"
      ]
     },
     "metadata": {
      "needs_background": "light"
     },
     "output_type": "display_data"
    }
   ],
   "source": [
    "df = {'Game1':Jack_fre_Game1, 'Game2':Jack_fre_Game2}\n",
    "df2 = sorted(df.items())\n",
    "x, y = zip(*df2)\n",
    "plt.bar(x, y)"
   ]
  },
  {
   "cell_type": "code",
   "execution_count": 22,
   "id": "da099eae-9ea3-4fd1-8b97-30ee73e8c16f",
   "metadata": {},
   "outputs": [
    {
     "data": {
      "text/html": [
       "<div>\n",
       "<style scoped>\n",
       "    .dataframe tbody tr th:only-of-type {\n",
       "        vertical-align: middle;\n",
       "    }\n",
       "\n",
       "    .dataframe tbody tr th {\n",
       "        vertical-align: top;\n",
       "    }\n",
       "\n",
       "    .dataframe thead th {\n",
       "        text-align: right;\n",
       "    }\n",
       "</style>\n",
       "<table border=\"1\" class=\"dataframe\">\n",
       "  <thead>\n",
       "    <tr style=\"text-align: right;\">\n",
       "      <th></th>\n",
       "      <th>num_rolls</th>\n",
       "      <th>num_dices</th>\n",
       "      <th>Face_rolled</th>\n",
       "    </tr>\n",
       "  </thead>\n",
       "  <tbody>\n",
       "    <tr>\n",
       "      <th>0</th>\n",
       "      <td>1</td>\n",
       "      <td>1</td>\n",
       "      <td>2</td>\n",
       "    </tr>\n",
       "    <tr>\n",
       "      <th>1</th>\n",
       "      <td>2</td>\n",
       "      <td>1</td>\n",
       "      <td>5</td>\n",
       "    </tr>\n",
       "    <tr>\n",
       "      <th>2</th>\n",
       "      <td>3</td>\n",
       "      <td>1</td>\n",
       "      <td>4</td>\n",
       "    </tr>\n",
       "    <tr>\n",
       "      <th>3</th>\n",
       "      <td>4</td>\n",
       "      <td>1</td>\n",
       "      <td>5</td>\n",
       "    </tr>\n",
       "    <tr>\n",
       "      <th>4</th>\n",
       "      <td>5</td>\n",
       "      <td>1</td>\n",
       "      <td>4</td>\n",
       "    </tr>\n",
       "    <tr>\n",
       "      <th>...</th>\n",
       "      <td>...</td>\n",
       "      <td>...</td>\n",
       "      <td>...</td>\n",
       "    </tr>\n",
       "    <tr>\n",
       "      <th>19995</th>\n",
       "      <td>9998</td>\n",
       "      <td>5</td>\n",
       "      <td>4</td>\n",
       "    </tr>\n",
       "    <tr>\n",
       "      <th>19996</th>\n",
       "      <td>9999</td>\n",
       "      <td>4</td>\n",
       "      <td>4</td>\n",
       "    </tr>\n",
       "    <tr>\n",
       "      <th>19997</th>\n",
       "      <td>9999</td>\n",
       "      <td>5</td>\n",
       "      <td>4</td>\n",
       "    </tr>\n",
       "    <tr>\n",
       "      <th>19998</th>\n",
       "      <td>10000</td>\n",
       "      <td>4</td>\n",
       "      <td>5</td>\n",
       "    </tr>\n",
       "    <tr>\n",
       "      <th>19999</th>\n",
       "      <td>10000</td>\n",
       "      <td>5</td>\n",
       "      <td>1</td>\n",
       "    </tr>\n",
       "  </tbody>\n",
       "</table>\n",
       "<p>50000 rows × 3 columns</p>\n",
       "</div>"
      ],
      "text/plain": [
       "       num_rolls  num_dices  Face_rolled\n",
       "0              1          1            2\n",
       "1              2          1            5\n",
       "2              3          1            4\n",
       "3              4          1            5\n",
       "4              5          1            4\n",
       "...          ...        ...          ...\n",
       "19995       9998          5            4\n",
       "19996       9999          4            4\n",
       "19997       9999          5            4\n",
       "19998      10000          4            5\n",
       "19999      10000          5            1\n",
       "\n",
       "[50000 rows x 3 columns]"
      ]
     },
     "execution_count": 22,
     "metadata": {},
     "output_type": "execute_result"
    }
   ],
   "source": [
    "Game2"
   ]
  },
  {
   "cell_type": "code",
   "execution_count": 23,
   "id": "8ba391ba-0539-4e59-a4e2-0df40601aaff",
   "metadata": {},
   "outputs": [],
   "source": [
    "face_combin = []\n",
    "for i in range(1,10001):\n",
    "    face =[int(Game2.Face_rolled.iloc[[j-1]]) for j in range(1+5*(i-1), 6+5*(i-1))]\n",
    "    face_str = str(face)\n",
    "    face_combin.append(face_str)"
   ]
  },
  {
   "cell_type": "code",
   "execution_count": 24,
   "id": "30211a90-2afd-475f-93db-3627119016da",
   "metadata": {},
   "outputs": [
    {
     "data": {
      "text/html": [
       "<div>\n",
       "<style scoped>\n",
       "    .dataframe tbody tr th:only-of-type {\n",
       "        vertical-align: middle;\n",
       "    }\n",
       "\n",
       "    .dataframe tbody tr th {\n",
       "        vertical-align: top;\n",
       "    }\n",
       "\n",
       "    .dataframe thead th {\n",
       "        text-align: right;\n",
       "    }\n",
       "</style>\n",
       "<table border=\"1\" class=\"dataframe\">\n",
       "  <thead>\n",
       "    <tr style=\"text-align: right;\">\n",
       "      <th></th>\n",
       "      <th>combinations</th>\n",
       "      <th>num</th>\n",
       "    </tr>\n",
       "  </thead>\n",
       "  <tbody>\n",
       "    <tr>\n",
       "      <th>0</th>\n",
       "      <td>[2, 3, 2, 2, 1]</td>\n",
       "      <td>7</td>\n",
       "    </tr>\n",
       "    <tr>\n",
       "      <th>1</th>\n",
       "      <td>[3, 2, 6, 4, 1]</td>\n",
       "      <td>7</td>\n",
       "    </tr>\n",
       "    <tr>\n",
       "      <th>2</th>\n",
       "      <td>[1, 5, 6, 1, 1]</td>\n",
       "      <td>6</td>\n",
       "    </tr>\n",
       "    <tr>\n",
       "      <th>3</th>\n",
       "      <td>[3, 3, 6, 4, 3]</td>\n",
       "      <td>6</td>\n",
       "    </tr>\n",
       "    <tr>\n",
       "      <th>4</th>\n",
       "      <td>[3, 2, 5, 4, 4]</td>\n",
       "      <td>6</td>\n",
       "    </tr>\n",
       "    <tr>\n",
       "      <th>5</th>\n",
       "      <td>[2, 1, 1, 6, 1]</td>\n",
       "      <td>6</td>\n",
       "    </tr>\n",
       "    <tr>\n",
       "      <th>6</th>\n",
       "      <td>[1, 3, 5, 4, 4]</td>\n",
       "      <td>6</td>\n",
       "    </tr>\n",
       "    <tr>\n",
       "      <th>7</th>\n",
       "      <td>[4, 1, 5, 4, 4]</td>\n",
       "      <td>6</td>\n",
       "    </tr>\n",
       "    <tr>\n",
       "      <th>8</th>\n",
       "      <td>[2, 3, 4, 6, 5]</td>\n",
       "      <td>6</td>\n",
       "    </tr>\n",
       "    <tr>\n",
       "      <th>9</th>\n",
       "      <td>[6, 1, 5, 1, 2]</td>\n",
       "      <td>6</td>\n",
       "    </tr>\n",
       "  </tbody>\n",
       "</table>\n",
       "</div>"
      ],
      "text/plain": [
       "      combinations  num\n",
       "0  [2, 3, 2, 2, 1]    7\n",
       "1  [3, 2, 6, 4, 1]    7\n",
       "2  [1, 5, 6, 1, 1]    6\n",
       "3  [3, 3, 6, 4, 3]    6\n",
       "4  [3, 2, 5, 4, 4]    6\n",
       "5  [2, 1, 1, 6, 1]    6\n",
       "6  [1, 3, 5, 4, 4]    6\n",
       "7  [4, 1, 5, 4, 4]    6\n",
       "8  [2, 3, 4, 6, 5]    6\n",
       "9  [6, 1, 5, 1, 2]    6"
      ]
     },
     "execution_count": 24,
     "metadata": {},
     "output_type": "execute_result"
    }
   ],
   "source": [
    "most10 = pd.DataFrame(Counter(face_combin).most_common(10))\n",
    "most10.columns = ['combinations', 'num']\n",
    "most10"
   ]
  },
  {
   "cell_type": "code",
   "execution_count": 31,
   "id": "6fb0fea8-40d1-4dec-83c8-a3877eca8bc9",
   "metadata": {},
   "outputs": [
    {
     "data": {
      "image/png": "[encoded data removed]",
      "text/plain": [
       "<Figure size 432x288 with 1 Axes>"
      ]
     },
     "metadata": {
      "needs_background": "light"
     },
     "output_type": "display_data"
    }
   ],
   "source": [
    "plt.bar(most10.combinations, most10.num)\n",
    "plt.xticks(rotation=90)\n",
    "plt.show()"
   ]
  },
  {
   "cell_type": "code",
   "execution_count": 26,
   "id": "015cfe77-6ed0-4c16-a5fe-c97c5a2a4d3b",
   "metadata": {},
   "outputs": [
    {
     "data": {
      "text/plain": [
       "1"
      ]
     },
     "execution_count": 26,
     "metadata": {},
     "output_type": "execute_result"
    }
   ],
   "source": [
    "a = {'A':1, 'B':2}\n",
    "a.get('A')"
   ]
  },
  {
   "cell_type": "code",
   "execution_count": 28,
   "id": "56671e0f-d626-4d1e-bb5e-81ff3a73acc1",
   "metadata": {},
   "outputs": [],
   "source": [
    "# Scenario 3: Letters of the Roman Alpha\n",
    "#1. Play a game of 1000 flips with 5 fair dices, \n",
    "Die_class = montecarlo.Die(list(string.ascii_uppercase))\n",
    "letter_fre = {'A': 2.0720, \n",
    "              'B': 2.0720, \n",
    "'C': 4.5388, \n",
    "'D': 3.3844,\n",
    "'E': 11.1607,\n",
    "'F': 1.8121,\n",
    "'G': 2.4705,\n",
    "'H': 3.0034,\n",
    "'I': 7.5448,\n",
    "'J': 0.1965,\n",
    "'K': 1.1016,\n",
    "'L': 5.4893,\n",
    "'M': 3.0129,\n",
    "'N': 6.6544,\n",
    "'O': 7.1635,\n",
    "'P': 3.1671,\n",
    "'Q': 0.1962,\n",
    "'R': 7.5809,\n",
    "'S': 5.7351,\n",
    "'T': 6.9509,\n",
    "'U': 3.6308,\n",
    "'V': 1.0074,\n",
    "'W': 1.2899,\n",
    "'X': 0.2902,\n",
    "'Y': 1.7779,\n",
    "'Z': 0.2722\n",
    "}\n",
    "\n",
    "for i in letter_fre.keys():\n",
    "    Die_class.change_weight(i, letter_fre.get(i))\n",
    "Die_class.show_current()\n",
    "\n",
    "Game_class = montecarlo.Game(list(string.ascii_uppercase))\n",
    "Game_letter = Game_class.play(1000,5)"
   ]
  },
  {
   "cell_type": "code",
   "execution_count": 29,
   "id": "38d9863c-ae7b-457c-806e-a98e05f370d7",
   "metadata": {},
   "outputs": [
    {
     "data": {
      "text/html": [
       "<div>\n",
       "<style scoped>\n",
       "    .dataframe tbody tr th:only-of-type {\n",
       "        vertical-align: middle;\n",
       "    }\n",
       "\n",
       "    .dataframe tbody tr th {\n",
       "        vertical-align: top;\n",
       "    }\n",
       "\n",
       "    .dataframe thead th {\n",
       "        text-align: right;\n",
       "    }\n",
       "</style>\n",
       "<table border=\"1\" class=\"dataframe\">\n",
       "  <thead>\n",
       "    <tr style=\"text-align: right;\">\n",
       "      <th></th>\n",
       "      <th>words</th>\n",
       "      <th>num</th>\n",
       "    </tr>\n",
       "  </thead>\n",
       "  <tbody>\n",
       "    <tr>\n",
       "      <th>0</th>\n",
       "      <td>WRZOM</td>\n",
       "      <td>1</td>\n",
       "    </tr>\n",
       "    <tr>\n",
       "      <th>1</th>\n",
       "      <td>UDWCB</td>\n",
       "      <td>1</td>\n",
       "    </tr>\n",
       "    <tr>\n",
       "      <th>2</th>\n",
       "      <td>HBLTU</td>\n",
       "      <td>1</td>\n",
       "    </tr>\n",
       "    <tr>\n",
       "      <th>3</th>\n",
       "      <td>IUGCU</td>\n",
       "      <td>1</td>\n",
       "    </tr>\n",
       "    <tr>\n",
       "      <th>4</th>\n",
       "      <td>TDKCR</td>\n",
       "      <td>1</td>\n",
       "    </tr>\n",
       "    <tr>\n",
       "      <th>5</th>\n",
       "      <td>CARCG</td>\n",
       "      <td>1</td>\n",
       "    </tr>\n",
       "    <tr>\n",
       "      <th>6</th>\n",
       "      <td>EMANY</td>\n",
       "      <td>1</td>\n",
       "    </tr>\n",
       "    <tr>\n",
       "      <th>7</th>\n",
       "      <td>TDTPP</td>\n",
       "      <td>1</td>\n",
       "    </tr>\n",
       "    <tr>\n",
       "      <th>8</th>\n",
       "      <td>WWUCE</td>\n",
       "      <td>1</td>\n",
       "    </tr>\n",
       "    <tr>\n",
       "      <th>9</th>\n",
       "      <td>TOWKN</td>\n",
       "      <td>1</td>\n",
       "    </tr>\n",
       "  </tbody>\n",
       "</table>\n",
       "</div>"
      ],
      "text/plain": [
       "   words  num\n",
       "0  WRZOM    1\n",
       "1  UDWCB    1\n",
       "2  HBLTU    1\n",
       "3  IUGCU    1\n",
       "4  TDKCR    1\n",
       "5  CARCG    1\n",
       "6  EMANY    1\n",
       "7  TDTPP    1\n",
       "8  WWUCE    1\n",
       "9  TOWKN    1"
      ]
     },
     "execution_count": 29,
     "metadata": {},
     "output_type": "execute_result"
    }
   ],
   "source": [
    "letter_combin = []\n",
    "for i in range(1,1001):\n",
    "    letter =[Game_letter.Face_rolled.iloc[[j-1]].values.tolist()[0] for j in range(1+5*(i-1), 6+5*(i-1))]\n",
    "    letter_combin.append(letter)\n",
    "word = [\"\".join(i) for i in letter_combin]\n",
    "\n",
    "word10 = pd.DataFrame(Counter(word).most_common(10))\n",
    "word10.columns = ['words', 'num']\n",
    "word10"
   ]
  },
  {
   "cell_type": "code",
   "execution_count": null,
   "id": "eb5a3eb2-f725-4a77-a8dc-3f243ae93ab1",
   "metadata": {},
   "outputs": [],
   "source": []
  }
 ],
 "metadata": {
  "kernelspec": {
   "display_name": "Python 3 (ipykernel)",
   "language": "python",
   "name": "python3"
  },
  "language_info": {
   "codemirror_mode": {
    "name": "ipython",
    "version": 3
   },
   "file_extension": ".py",
   "mimetype": "text/x-python",
   "name": "python",
   "nbconvert_exporter": "python",
   "pygments_lexer": "ipython3",
   "version": "3.9.12"
  }
 },
 "nbformat": 4,
 "nbformat_minor": 5
}
