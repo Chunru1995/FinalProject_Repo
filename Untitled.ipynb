{
 "cells": [
  {
   "cell_type": "markdown",
   "id": "47e1d628-ef1d-4293-bae4-4f1f9cf6e7fa",
   "metadata": {},
   "source": [
    "# MetaData\n",
    "```yaml\n",
    "name: Chunru Zheng \n",
    "project: Montecarlo\n",
    "```"
   ]
  },
  {
   "cell_type": "markdown",
   "id": "9e5d9a65-b03f-4e07-a5b4-b5ff19decee7",
   "metadata": {},
   "source": [
    "# Synopsis\n",
    "* **Installing:**\n",
    "  - cd /Users/Christine/Desktop/DS/DS5100/DS5100-2022-06-RA/FinalProject_Repo/\n",
    "  - pip install .\n",
    "* **Importing:**\n",
    "  - from montecarlo import montecarlo\n",
    "* **Creating dice:**\n",
    "  - Die_class = montecarlo.Die(['H', 'T'])\n",
    "* **Playing games:**\n",
    "  - Game_class = montecarlo.Game(['H', 'T'])\n",
    "  - Game1 = Game_class.play(1000,3)\n",
    "* **Analyzing games:**\n",
    "  - Ana_class1 = montecarlo.Analyzer(Game1)"
   ]
  },
  {
   "cell_type": "markdown",
   "id": "18b7667b-aebc-46ad-8837-9dbf67f73322",
   "metadata": {},
   "source": [
    "# API description\n",
    "### Class1\n",
    "- **Die**: \n",
    "This class is to draw a die with a list of “faces”, and W weights, and can be rolled to select a face. \n",
    "\n",
    "  - __init__(self, arrays):\n",
    "  This initialize the arrays of dice, and return the faces, weights, and die.\n",
    "    \n",
    "  - change_weight(self, face_id, new_weight): \n",
    "  Enter the new face_id and new_weight, and this returns the new frame of die and weights. \n",
    "  \n",
    "  - roll_die(self, n_rolls=1):\n",
    "  This returns the results of rolling a dice for n_rolls times. \n",
    "  \n",
    "  - show_current(self):\n",
    "  This displays the current weights for each face. \n",
    "\n",
    "### Class2\n",
    "* **Game**: \n",
    "This class is to draw m dices with n times, and return the results of drawing.    \n",
    "Here I change to setting to choose m dices as you want, which make it easier for the senarios to change the number of dices.  \n",
    "  \n",
    "  - __init__(self,arrays):\n",
    "   This initialize the faces of dice you want to roll.\n",
    "   \n",
    "  - play(self, n_rolls, m_dices):\n",
    "   This returns the results of rolling m dices n times. Here I set the m_dice attribute to assign how many dices you want to roll and it will make things easier. \n",
    "   \n",
    "  - show(self, Form):\n",
    "   This transforms the results of the method play. To use this method, 'play' has to run firstly.\n",
    "\n",
    "### Class3\n",
    "* **Analyzer**: \n",
    "This class returns the analysis of results, with drawing m dices in n rolls.\n",
    "\n",
    "  - __init__(self,results):\n",
    "  \n",
    "  - jackpot(self):\n",
    "  This returns the times that all dices have the same face, where only one unique face is obtained.\n",
    "  \n",
    "  - combo(self):\n",
    "  This returns the times of each face_rolled.\n",
    "  \n",
    "  - faceper(self):\n",
    "  This returns the times of each face in each roll.\n"
   ]
  },
  {
   "cell_type": "markdown",
   "id": "c4ad68de-7c62-4b58-8e53-b4f0e5efbaef",
   "metadata": {},
   "source": [
    "# Files in this repo:\n",
    "- FinalProjectSubmissionTemplate.ipynb\n",
    "- LICENSE\n",
    "- README.md\n",
    "- montecarlo_demo.ipynb\n",
    "- montecarlo_results.txt\n",
    "- montecarlo_tests.py\n",
    "- montecarlo.py\n",
    "- setup.py\n",
    "- montecarlo:\n",
    "  - __init__.py\n",
    "  * __pycache__/\n",
    "      * __init__.cpython-39.pyc\n",
    "      * montecarlo.cpython-39.pyc\n"
   ]
  },
  {
   "cell_type": "code",
   "execution_count": null,
   "id": "02cb8da6-f675-4f8f-ba4d-f019c1c3eee6",
   "metadata": {},
   "outputs": [],
   "source": []
  }
 ],
 "metadata": {
  "kernelspec": {
   "display_name": "Python 3 (ipykernel)",
   "language": "python",
   "name": "python3"
  },
  "language_info": {
   "codemirror_mode": {
    "name": "ipython",
    "version": 3
   },
   "file_extension": ".py",
   "mimetype": "text/x-python",
   "name": "python",
   "nbconvert_exporter": "python",
   "pygments_lexer": "ipython3",
   "version": "3.9.12"
  }
 },
 "nbformat": 4,
 "nbformat_minor": 5
}
